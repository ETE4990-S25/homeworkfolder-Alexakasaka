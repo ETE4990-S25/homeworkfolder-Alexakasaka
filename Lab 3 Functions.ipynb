{
 "cells": [
  {
   "cell_type": "markdown",
   "id": "abfb9ed7-bb94-48c3-88f0-6693f26b3f7c",
   "metadata": {},
   "source": [
    "# Lab 3 - Files and Functions\n"
   ]
  },
  {
   "cell_type": "markdown",
   "id": "5dd841b5-4e31-428c-a56b-5a74f1aa8c75",
   "metadata": {},
   "source": [
    "## Warm-up \n",
    "\n",
    "Part 1:\n",
    "Write a python file that can be imported.\n",
    "\n",
    "\n"
   ]
  },
  {
   "cell_type": "code",
   "execution_count": 12,
   "id": "9916dca4-e082-47ba-957a-d285cd0abce0",
   "metadata": {},
   "outputs": [
    {
     "name": "stdout",
     "output_type": "stream",
     "text": [
      "Hello World, how are you doing today?\n"
     ]
    }
   ],
   "source": [
    "def greet(name):\n",
    "    return f\"Hello {name}, how are you doing today?\"\n",
    "\n",
    "if __name__ == \"__main__\":\n",
    "    print(greet(\"World\"))"
   ]
  },
  {
   "cell_type": "markdown",
   "id": "5935273d",
   "metadata": {},
   "source": [
    "\n",
    "Part 2: \n",
    "Using the following as a starting point create a python file that will take in a a name and\n",
    "a list of names and tell you if that name is in the list."
   ]
  },
  {
   "cell_type": "code",
   "execution_count": 15,
   "id": "64949662",
   "metadata": {},
   "outputs": [
    {
     "name": "stdout",
     "output_type": "stream",
     "text": [
      "Luke is in the list\n",
      "Name not found\n"
     ]
    }
   ],
   "source": [
    "def name_check(name, name_list):\n",
    "    if name in name_list:\n",
    "        return f\"{name} is in the list\"\n",
    "    else:\n",
    "        return \"Name not found\"\n",
    "\n",
    "names = [\"John\", \"Luke\", \"Sara\", \"Anna\"]\n",
    "print(name_check(\"Luke\", names))\n",
    "print(name_check(\"Mike\", names))    "
   ]
  },
  {
   "cell_type": "markdown",
   "id": "bc4fbb46-483b-479b-97d5-82e2dc7f4346",
   "metadata": {},
   "source": [
    "# Main Lab\n",
    "\n",
    "Take time to begin working with your partner on your project. Begin to plan out how you would like your game to feel. Remember this is a text-based game. This can be any game you would like \n",
    "\n",
    "    Please stay away from games or software like poker or 21 as these tend to be boring to code and hard to add more to later on, and obviously games that may get you reported by the university.\n",
    "\n",
    "\n",
    "## Part 1:\n",
    "\n",
    "Divide up your code and begin  writing the code.\n",
    "\n",
    "Keep in mind that when you write your code you will need to be interfacing with your partners code, loading in your player, tools/items/etc, interfacing with the world, monsters and so on. So plan accordingly.\n",
    "\n",
    "\n",
    "While we have not gotten to classes take some time to try and code some simple classes. \n",
    "Here is an example:\n",
    "```python \n",
    "\n",
    "#Good\n",
    "class Sharps(object):\n",
    "    \"\"\"Create a sharp weapon\"\"\"\n",
    "    def __init__(self, name, length, age=1, damage=0):\n",
    "        \"\"\" Initialize name, age, and length damage attributes.\"\"\"\n",
    "        self.name = name\n",
    "        self.age = age\n",
    "        self.length = length\n",
    "        self.damage = damage\n",
    "    def do_damage(self, target):\n",
    "        target = target - self.damage\n",
    "\n",
    "class dager(Sharps):\n",
    "    \"\"\" makes a dager\"\"\"\n",
    "    def __init__(self, name, length, age=1, damage=0):\n",
    "        \"\"\"sets up a dagger\"\"\"\n",
    "        super().__init__(self, name, length, age, damage)\n",
    "        self.poision = True\n",
    "```\n",
    "        \n",
    "\n"
   ]
  },
  {
   "cell_type": "code",
   "execution_count": 20,
   "id": "fdff0d6b",
   "metadata": {},
   "outputs": [
    {
     "name": "stdout",
     "output_type": "stream",
     "text": [
      "Name: Alex\n",
      "Type: assassin\n",
      "Attributes: {'health': 60, 'attack': 80, 'defense': 5}\n",
      "Items: []\n"
     ]
    }
   ],
   "source": [
    "# this is my code\n",
    "import json\n",
    "\n",
    "class Player:\n",
    "    def __init__(self, name, player_type):\n",
    "        self.name = name\n",
    "        self.player_type = player_type\n",
    "        self.attributes = self.set_attributes(player_type)\n",
    "        self.items = []\n",
    "\n",
    "    def set_attributes(self, player_type):\n",
    "        types = {\n",
    "            \"warrior\": {\"health\": 100, \"attack\": 50, \"defense\": 20},\n",
    "            \"mage\": {\"health\": 80, \"attack\": 70, \"defense\": 10},\n",
    "            \"assassin\": {\"health\": 60, \"attack\": 80, \"defense\": 5}\n",
    "        } \n",
    "        return types[player_type]\n",
    "\n",
    "    def display_profile(self):\n",
    "        print(f\"Name: {self.name}\")\n",
    "        print(f\"Type: {self.player_type}\")\n",
    "        print(f\"Attributes: {self.attributes}\")\n",
    "        print(f\"Items: {self.items}\") \n",
    "\n",
    "    def save_profile(self, player_type):\n",
    "        data = {\n",
    "            \"name\": self.name,\n",
    "            \"player_type\": self.player_type,\n",
    "            \"attributes\": self.attributes,\n",
    "            \"items\": self.items\n",
    "        }\n",
    "\n",
    "        with open(f\"{self.name}.json\", \"w\") as file:\n",
    "            json.dump(data, file)\n",
    "\n",
    "#example\n",
    "name = input(\"Enter your name: \")\n",
    "player_type = input(\"Do you want to be a warrior, a mage, or a assassin?: \")\n",
    "player = Player(name, player_type)\n",
    "player.display_profile()\n",
    "player.save_profile(player_type)\n",
    "            "
   ]
  }
 ],
 "metadata": {
  "kernelspec": {
   "display_name": "Python 3",
   "language": "python",
   "name": "python3"
  },
  "language_info": {
   "codemirror_mode": {
    "name": "ipython",
    "version": 3
   },
   "file_extension": ".py",
   "mimetype": "text/x-python",
   "name": "python",
   "nbconvert_exporter": "python",
   "pygments_lexer": "ipython3",
   "version": "3.13.1"
  }
 },
 "nbformat": 4,
 "nbformat_minor": 5
}
