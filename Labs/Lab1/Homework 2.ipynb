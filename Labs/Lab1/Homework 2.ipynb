{
 "cells": [
  {
   "cell_type": "code",
   "execution_count": null,
   "metadata": {},
   "outputs": [],
   "source": [
    "import json\n",
    "\n",
    "#example of class\n",
    "student1 = person(\"Alex\", \"22\" \"atakasaka@cpp.edu\")\n",
    "person1 = person(\"Mr.Powers\", \"22\", \"abcd@cpp.edu\")\n",
    "\n",
    "#stolen from class notes\n",
    "DataHandler = save_to_json(\"people_data.json\", [student1, person1])\n",
    "\n",
    "DataHandler.display_json(\"people_data.json\")\n",
    "\n",
    "\n",
    "\n"
   ]
  }
 ],
 "metadata": {
  "kernelspec": {
   "display_name": "Python 3",
   "language": "python",
   "name": "python3"
  },
  "language_info": {
   "name": "python",
   "version": "3.13.1"
  }
 },
 "nbformat": 4,
 "nbformat_minor": 2
}
