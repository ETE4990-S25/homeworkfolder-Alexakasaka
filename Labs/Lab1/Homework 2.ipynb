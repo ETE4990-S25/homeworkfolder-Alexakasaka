{
 "cells": [
  {
   "cell_type": "code",
   "execution_count": null,
   "metadata": {},
   "outputs": [],
   "source": [
    "import json\n",
    "\n",
    "#example of class\n",
    "person_1 = person(\"Alex\", \"22\" \"atakasaka@cpp.edu\")\n",
    "person_2 = person(\"Mr.Powers\", \"22\", \"abcd@cpp.edu\")\n",
    "\n",
    "#"
   ]
  }
 ],
 "metadata": {
  "kernelspec": {
   "display_name": "Python 3",
   "language": "python",
   "name": "python3"
  },
  "language_info": {
   "name": "python",
   "version": "3.13.1"
  }
 },
 "nbformat": 4,
 "nbformat_minor": 2
}
